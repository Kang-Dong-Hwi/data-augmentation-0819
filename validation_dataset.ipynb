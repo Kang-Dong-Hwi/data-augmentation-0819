{
 "cells": [
  {
   "cell_type": "code",
   "execution_count": 17,
   "metadata": {},
   "outputs": [
    {
     "name": "stdout",
     "output_type": "stream",
     "text": [
      "Current cuda device  5\n"
     ]
    }
   ],
   "source": [
    "import torch\n",
    "\n",
    "\n",
    "# GPU 할당 변경하기\n",
    "GPU_NUM = 5  # 원하는 GPU 번호 입력\n",
    "device = torch.device(f'cuda:{GPU_NUM}' if torch.cuda.is_available() else 'cpu')\n",
    "\n",
    "torch.cuda.set_device(device) # change allocation of current GPU\n",
    "print ('Current cuda device ', torch.cuda.current_device()) # check"
   ]
  },
  {
   "cell_type": "code",
   "execution_count": 27,
   "metadata": {},
   "outputs": [],
   "source": [
    "import numpy as np\n",
    "from sklearn.preprocessing import StandardScaler"
   ]
  },
  {
   "cell_type": "code",
   "execution_count": 18,
   "metadata": {},
   "outputs": [],
   "source": [
    "S_left  = np.load('S_left.npy')\n",
    "S_right = np.load('S_right.npy')\n",
    "S_left_phase  = np.load('S_left_phase.npy')\n",
    "S_right_phase = np.load('S_right_phase.npy')"
   ]
  },
  {
   "cell_type": "code",
   "execution_count": 19,
   "metadata": {},
   "outputs": [],
   "source": [
    "S_left  = torch.as_tensor(S_left ).to('cuda:5')\n",
    "S_right = torch.as_tensor(S_right).to('cuda:5')\n",
    "S_left_phase  = torch.as_tensor(S_left_phase ).to('cuda:5')\n",
    "S_right_phase = torch.as_tensor(S_right_phase).to('cuda:5')"
   ]
  },
  {
   "cell_type": "code",
   "execution_count": 20,
   "metadata": {},
   "outputs": [],
   "source": [
    "x_data = torch.empty(1,1,257,382)\n",
    "y_data = torch.as_tensor(np.load('label.npy')).to('cuda:5')"
   ]
  },
  {
   "cell_type": "code",
   "execution_count": null,
   "metadata": {},
   "outputs": [],
   "source": []
  },
  {
   "cell_type": "code",
   "execution_count": 24,
   "metadata": {},
   "outputs": [],
   "source": [
    "def dB( magnitude ):\n",
    "\n",
    "    eps = torch.finfo(float).eps\n",
    "    decibel = 20*torch.log10( torch.abs(magnitude) + eps )\n",
    "    return decibel\n",
    "\n",
    "\n",
    "\n",
    "\n",
    "def scaler( L, R ):\n",
    "    \n",
    "    LR = torch.cat( [L,R], dim=0 )\n",
    "    LR_cpu = LR.to('cpu')\n",
    "    LR_npy = np.asarray(LR_cpu)\n",
    "    \n",
    "    z = StandardScaler().fit_transform(LR_npy[:])\n",
    "    z = torch.as_tensor(z).to('cuda')\n",
    "    z = z.reshape(2, 257, 382)\n",
    "\n",
    "    return z[0], z[1]\n",
    "\n",
    "\n",
    "\n",
    "\n",
    "def angle_to_digit( y_data ):\n",
    "    \n",
    "    for idx in range(y_data.shape[0]):\n",
    "        \n",
    "        y = y_data[idx]\n",
    "        if y<0: y_data[idx] = 10\n",
    "        else:   y_data[idx] = ( y//20 )\n",
    "    \n",
    "    return y_data\n"
   ]
  },
  {
   "cell_type": "code",
   "execution_count": 22,
   "metadata": {},
   "outputs": [
    {
     "data": {
      "text/plain": [
       "torch.Size([257, 382, 500])"
      ]
     },
     "execution_count": 22,
     "metadata": {},
     "output_type": "execute_result"
    }
   ],
   "source": [
    "S_left.shape"
   ]
  },
  {
   "cell_type": "code",
   "execution_count": 28,
   "metadata": {},
   "outputs": [],
   "source": [
    "\n",
    "x_data = torch.empty([1,4,257,382]).to(device)\n",
    "\n",
    "\n",
    "for idx in range( y_data.shape[0] ):\n",
    "    \n",
    "    \n",
    "    mag_L = S_left[:,:,idx]\n",
    "    mag_R = S_right[:,:,idx]\n",
    "    phi_L = S_left_phase[:,:,idx]\n",
    "    phi_R = S_right_phase[:,:,idx]\n",
    "\n",
    "\n",
    "    \"\"\"log[dB] scale\"\"\"\n",
    "    log_L = dB( mag_L )\n",
    "    log_R = dB( mag_R )\n",
    "\n",
    "\n",
    "    \"\"\"정규화\"\"\"\n",
    "    #z_mag = scaler( mag_L, mag_R )\n",
    "    z_mag = scaler( log_L, log_R )\n",
    "    z_phi = scaler( phi_L, phi_R )\n",
    "    \n",
    "    \n",
    "    x_left_mag ,  x_right_mag   =  z_mag\n",
    "    x_left_phase, x_right_phase =  z_phi\n",
    "    \n",
    "    \n",
    "    xl_m = x_left_mag.reshape(1,257,382)\n",
    "    xl_p = x_left_phase.reshape(1,257,382)\n",
    "    xr_m = x_right_mag.reshape(1,257,382)\n",
    "    xr_p = x_right_phase.reshape(1,257,382)\n",
    "    \n",
    "    x_element = torch.cat([ xl_m, xr_m, xl_p, xr_p ], dim=0)\n",
    "    x_element = x_element.reshape(1, 4, 257, 382)\n",
    "    #(1, 4, 257, 382)\n",
    " \n",
    "    \n",
    "    x_data = torch.cat([x_data, x_element], dim=0)\n",
    "\n",
    "x_data = x_data[1:]\n",
    "y_data = torch.as_tensor( angle_to_digit(y_data) ).reshape(500,)\n",
    "\n",
    "\n",
    "    "
   ]
  },
  {
   "cell_type": "code",
   "execution_count": 29,
   "metadata": {},
   "outputs": [],
   "source": [
    "torch.save( x_data, 'validation_dataset/x_data.pt' )\n",
    "torch.save( y_data, 'validation_dataset/y_data.pt')"
   ]
  },
  {
   "cell_type": "code",
   "execution_count": null,
   "metadata": {},
   "outputs": [],
   "source": []
  },
  {
   "cell_type": "code",
   "execution_count": null,
   "metadata": {},
   "outputs": [],
   "source": []
  }
 ],
 "metadata": {
  "kernelspec": {
   "display_name": "Python 3",
   "language": "python",
   "name": "python3"
  },
  "language_info": {
   "codemirror_mode": {
    "name": "ipython",
    "version": 3
   },
   "file_extension": ".py",
   "mimetype": "text/x-python",
   "name": "python",
   "nbconvert_exporter": "python",
   "pygments_lexer": "ipython3",
   "version": "3.7.7"
  }
 },
 "nbformat": 4,
 "nbformat_minor": 4
}
